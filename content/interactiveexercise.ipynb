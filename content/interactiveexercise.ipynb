{
 "cells": [
  {
   "attachments": {},
   "cell_type": "markdown",
   "metadata": {},
   "source": [
    "# Simple exercises\n",
    "\n",
    "Jupyter books allow for the inclusion of [ipywidgets](https://jupyterbook.org/en/stable/interactive/interactive.html#ipywidgets), small interactive HTML elements, which can be used for making simple exercises that are generated and checked fully within the book. Here we'll illustrate with a very basic addition exercise; just type your answer in the box and the system will tell you whether you got it right, and if so, will generate a new exercise."
   ]
  },
  {
   "cell_type": "code",
   "execution_count": 1,
   "metadata": {},
   "outputs": [],
   "source": [
    "# Load packages. While we don't strictly need the display, it makes first manipulating and then showing much easier.\n",
    "import ipywidgets as widgets\n",
    "from IPython.display import display\n",
    "import numpy as np"
   ]
  },
  {
   "cell_type": "code",
   "execution_count": 2,
   "metadata": {},
   "outputs": [
    {
     "data": {
      "application/vnd.jupyter.widget-view+json": {
       "model_id": "9395ac58cb8e45628988ddb160ff9733",
       "version_major": 2,
       "version_minor": 0
      },
      "text/plain": [
       "HBox(children=(Text(value='', description='10 + 10 = '), Button(description='check', style=ButtonStyle())))"
      ]
     },
     "metadata": {},
     "output_type": "display_data"
    },
    {
     "data": {
      "application/vnd.jupyter.widget-view+json": {
       "model_id": "78f84b9446de4282a1297cad5f8b2438",
       "version_major": 2,
       "version_minor": 0
      },
      "text/plain": [
       "Label(value='')"
      ]
     },
     "metadata": {},
     "output_type": "display_data"
    }
   ],
   "source": [
    "# Array with two numbers to add. We put them in an array so that we can address (and change) the numbers from our checkanswer function.\n",
    "x = np.array([np.random.randint(1,11), np.random.randint(1,11)])\n",
    "\n",
    "# A widget element: simple textbox, we use the description to set the problem.\n",
    "getanswer = widgets.Text(description = f\"{x[0]} + {x[1]} = \")\n",
    "\n",
    "# Second widget element: submit button.\n",
    "returnbutton = widgets.Button(description = 'check')\n",
    "\n",
    "# Third widget element, now a simple label, just displaying text. For now it's empty, we'll set its value when an answer has been given.\n",
    "assessment = widgets.Label()\n",
    "\n",
    "# Display both the textbox (with the problem text), the submit button, and the (empty) answer label.\n",
    "display(widgets.HBox([getanswer, returnbutton]))\n",
    "display(assessment)\n",
    "\n",
    "# Function to check the given answer; the parameter passed is the event handle.\n",
    "def checkanswer(b):\n",
    "    # Verify that the answer is not empty and is an integer; if neither, just do nothing.\n",
    "    if ((getanswer.value != '') and (getanswer.value.isnumeric())):\n",
    "        answer = int(getanswer.value)\n",
    "        # Actually check the answer. If correct, say so in the label (with the exercise just solved) and generate a new problem. If wrong, only set the label.\n",
    "        if (x[0] + x[1] == answer):\n",
    "            assessment.value = f'correct: {x[0]} + {x[1]} = {answer}'\n",
    "            x[0] = np.random.randint(1,11)\n",
    "            x[1] = np.random.randint(1,11)\n",
    "            getanswer.description = f\"{x[0]} + {x[1]} = \"\n",
    "            getanswer.value = ''\n",
    "        else:\n",
    "            assessment.value = 'wrong'\n",
    "\n",
    "# Event listener that gets activated if the user hits return in the textbox.\n",
    "getanswer.on_submit(checkanswer)\n",
    "\n",
    "# Event listener that gets activated if the user clicks the submit button.\n",
    "returnbutton.on_click(checkanswer)"
   ]
  },
  {
   "cell_type": "code",
   "execution_count": null,
   "metadata": {},
   "outputs": [],
   "source": []
  }
 ],
 "metadata": {
  "kernelspec": {
   "display_name": "Python 3",
   "language": "python",
   "name": "python3"
  },
  "language_info": {
   "codemirror_mode": {
    "name": "ipython",
    "version": 3
   },
   "file_extension": ".py",
   "mimetype": "text/x-python",
   "name": "python",
   "nbconvert_exporter": "python",
   "pygments_lexer": "ipython3",
   "version": "3.11.0"
  },
  "orig_nbformat": 4,
  "vscode": {
   "interpreter": {
    "hash": "aee8b7b246df8f9039afb4144a1f6fd8d2ca17a180786b69acc140d282b71a49"
   }
  }
 },
 "nbformat": 4,
 "nbformat_minor": 2
}
