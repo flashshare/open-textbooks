{
 "cells": [
  {
   "attachments": {},
   "cell_type": "markdown",
   "metadata": {},
   "source": [
    "# Using JavaScript\n",
    "\n",
    "Unfortunately browsers don't have decent support for running Python yet. However, they all support JavaScript, which can help us spice things up. Below are a few examples on how to make JavaScript work in your JupyterBook.\n",
    "\n",
    "Source: [Two ways to use JavaScript in Jupyter Notebook](https://comp.reachingfordreams.com/en/blog/17-javascript-in-jupyter-notebook-magic-node)"
   ]
  },
  {
   "cell_type": "code",
   "execution_count": 1,
   "metadata": {},
   "outputs": [
    {
     "data": {
      "text/html": [
       "<div id=\"javasciptId\"></div>\n"
      ],
      "text/plain": [
       "<IPython.core.display.HTML object>"
      ]
     },
     "metadata": {},
     "output_type": "display_data"
    }
   ],
   "source": [
    "%%html\n",
    "<div id=\"javasciptId\"></div>"
   ]
  },
  {
   "cell_type": "code",
   "execution_count": 2,
   "metadata": {},
   "outputs": [
    {
     "data": {
      "application/javascript": "\nvar selected = document.getElementById(\"javasciptId\");\nvar numbers = new Array();\nnumbers[1]=33;\nnumbers[2]=44;\nnumbers[3]=55;\nnumbers[4]=66;\nnumbers[5]=77;\nselected.innerHTML = \"<b>Numbers</b>\";\nselected.innerHTML += \"<ul>\";\nvar num=0;\nvar sum=0;\nvar average=0;\nfor(var i in numbers){\n    selected.innerHTML += \"<li>Figure \"+i+\": \"+numbers[i];\n    num++;\n    sum=sum+numbers[i];\n}\nselected.innerHTML += \"</ul>\";\nvar average = Math.round(sum/num);\nselected.innerHTML += \"Average number is \"+average;\n",
      "text/plain": [
       "<IPython.core.display.Javascript object>"
      ]
     },
     "metadata": {},
     "output_type": "display_data"
    }
   ],
   "source": [
    "%%javascript\n",
    "\n",
    "var selected = document.getElementById(\"javasciptId\");\n",
    "var numbers = new Array();\n",
    "numbers[1]=33;\n",
    "numbers[2]=44;\n",
    "numbers[3]=55;\n",
    "numbers[4]=66;\n",
    "numbers[5]=77;\n",
    "selected.innerHTML = \"<b>Numbers</b>\";\n",
    "selected.innerHTML += \"<ul>\";\n",
    "var num=0;\n",
    "var sum=0;\n",
    "var average=0;\n",
    "for(var i in numbers){\n",
    "    selected.innerHTML += \"<li>Figure \"+i+\": \"+numbers[i];\n",
    "    num++;\n",
    "    sum=sum+numbers[i];\n",
    "}\n",
    "selected.innerHTML += \"</ul>\";\n",
    "var average = Math.round(sum/num);\n",
    "selected.innerHTML += \"Average number is \"+average;"
   ]
  },
  {
   "attachments": {},
   "cell_type": "markdown",
   "metadata": {},
   "source": [
    "## Drawing example.\n",
    "Note that 'element' is the jQuery powered wrapper for the current output cell."
   ]
  },
  {
   "cell_type": "code",
   "execution_count": 3,
   "metadata": {},
   "outputs": [
    {
     "data": {
      "application/javascript": "require.config({ \n     paths: { \n     d3: 'https://d3js.org/d3.v5.min'\n}});\n",
      "text/plain": [
       "<IPython.core.display.Javascript object>"
      ]
     },
     "metadata": {},
     "output_type": "display_data"
    }
   ],
   "source": [
    "%%javascript\n",
    "require.config({ \n",
    "     paths: { \n",
    "     d3: 'https://d3js.org/d3.v5.min'\n",
    "}});"
   ]
  },
  {
   "cell_type": "code",
   "execution_count": 4,
   "metadata": {},
   "outputs": [
    {
     "data": {
      "application/javascript": "(function(element) {\n    require(['d3'], function(d3) {   \n        var data = [1, 2, 4, 8, 4, 2, 1]\n\n        var svg = d3.select(element.get(0)).append('svg')\n            .attr('width', 500)\n            .attr('height', 200);\n        svg.selectAll('circle')\n            .data(data)\n            .enter()\n            .append('circle')\n            .attr(\"cx\", function(d, i) {return 65 * (i + 1);})\n            .attr(\"cy\", function(d, i) {return 100 + 40 * (i % 2 - 1);})\n            .style(\"fill\", \"#f7e80c\")\n            .transition().duration(2000)\n            .attr(\"r\", function(d) {return 2*d;})\n        ;\n    })\n})(element);\n",
      "text/plain": [
       "<IPython.core.display.Javascript object>"
      ]
     },
     "metadata": {},
     "output_type": "display_data"
    }
   ],
   "source": [
    "%%javascript\n",
    "(function(element) {\n",
    "    require(['d3'], function(d3) {   \n",
    "        var data = [1, 2, 4, 8, 4, 2, 1]\n",
    "\n",
    "        var svg = d3.select(element.get(0)).append('svg')\n",
    "            .attr('width', 500)\n",
    "            .attr('height', 200);\n",
    "        svg.selectAll('circle')\n",
    "            .data(data)\n",
    "            .enter()\n",
    "            .append('circle')\n",
    "            .attr(\"cx\", function(d, i) {return 65 * (i + 1);})\n",
    "            .attr(\"cy\", function(d, i) {return 100 + 40 * (i % 2 - 1);})\n",
    "            .style(\"fill\", \"#f7e80c\")\n",
    "            .transition().duration(2000)\n",
    "            .attr(\"r\", function(d) {return 2*d;})\n",
    "        ;\n",
    "    })\n",
    "})(element);"
   ]
  },
  {
   "cell_type": "code",
   "execution_count": null,
   "metadata": {},
   "outputs": [],
   "source": []
  }
 ],
 "metadata": {
  "kernelspec": {
   "display_name": "Python 3",
   "language": "python",
   "name": "python3"
  },
  "language_info": {
   "codemirror_mode": {
    "name": "ipython",
    "version": 3
   },
   "file_extension": ".py",
   "mimetype": "text/x-python",
   "name": "python",
   "nbconvert_exporter": "python",
   "pygments_lexer": "ipython3",
   "version": "3.11.0"
  },
  "orig_nbformat": 4,
  "vscode": {
   "interpreter": {
    "hash": "aee8b7b246df8f9039afb4144a1f6fd8d2ca17a180786b69acc140d282b71a49"
   }
  }
 },
 "nbformat": 4,
 "nbformat_minor": 2
}
